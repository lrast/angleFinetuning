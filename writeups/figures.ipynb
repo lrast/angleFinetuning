{
 "cells": [
  {
   "cell_type": "markdown",
   "id": "c5bb19c4-cd7a-4bd6-b140-5371083d0eb2",
   "metadata": {},
   "source": [
    "# Figure making"
   ]
  },
  {
   "cell_type": "code",
   "execution_count": 3,
   "id": "4a225edc-21ae-45d8-8952-01f9021f3fa5",
   "metadata": {},
   "outputs": [],
   "source": [
    "import matplotlib as mpl\n",
    "import matplotlib.pyplot as plt\n",
    "%matplotlib inline\n",
    "from IPython.core.pylabtools import figsize\n",
    "\n",
    "import seaborn as sns\n",
    "import plotly.express as px\n",
    "\n",
    "import numpy as np\n",
    "import pandas as pd\n",
    "import polars as pl\n",
    "\n",
    "import statsmodels.formula.api as smf\n",
    "\n",
    "import sys\n",
    "sys.path.append('..')"
   ]
  },
  {
   "cell_type": "markdown",
   "id": "8d7e4b53-39d9-4465-97ed-c2c7d768f17b",
   "metadata": {},
   "source": [
    "## Figure 1\n",
    "\n",
    "Establishing the adaptation properties of optimized codes. We do this by measuring the _output sensitivity_ in a simple neural network model. "
   ]
  },
  {
   "cell_type": "code",
   "execution_count": null,
   "id": "b7341c81-bc94-4018-ba43-3bd45a2dfdf5",
   "metadata": {},
   "outputs": [],
   "source": []
  },
  {
   "cell_type": "code",
   "execution_count": null,
   "id": "203de818-95de-47e6-9087-647dbe426d90",
   "metadata": {},
   "outputs": [],
   "source": []
  },
  {
   "cell_type": "code",
   "execution_count": null,
   "id": "d1b13cca-54ec-4e47-9410-b53563305d66",
   "metadata": {},
   "outputs": [],
   "source": []
  },
  {
   "cell_type": "code",
   "execution_count": null,
   "id": "fc8f3326-584a-4134-898f-0279572a85fe",
   "metadata": {},
   "outputs": [],
   "source": []
  },
  {
   "cell_type": "code",
   "execution_count": null,
   "id": "0772d822-d1b3-4873-8add-1368a233977c",
   "metadata": {},
   "outputs": [],
   "source": []
  },
  {
   "cell_type": "markdown",
   "id": "fb2875da-c7a7-4906-99ba-ba54fef59d13",
   "metadata": {},
   "source": [
    "## Figure 2"
   ]
  },
  {
   "cell_type": "code",
   "execution_count": null,
   "id": "48f583af-8378-416b-aba0-28f0d423d411",
   "metadata": {},
   "outputs": [],
   "source": []
  },
  {
   "cell_type": "code",
   "execution_count": null,
   "id": "6ec54ab2-ba7a-479d-bb3e-28c8da56c1ae",
   "metadata": {},
   "outputs": [],
   "source": []
  },
  {
   "cell_type": "code",
   "execution_count": null,
   "id": "fb4ad3fc-d3a9-4039-97ee-e18f68a9b20b",
   "metadata": {},
   "outputs": [],
   "source": []
  },
  {
   "cell_type": "code",
   "execution_count": null,
   "id": "3689d130-a094-4019-9783-9b3661a6cf9e",
   "metadata": {},
   "outputs": [],
   "source": []
  },
  {
   "cell_type": "code",
   "execution_count": null,
   "id": "a486b594-e2cb-4104-a493-91200e6b0dcf",
   "metadata": {},
   "outputs": [],
   "source": []
  },
  {
   "cell_type": "code",
   "execution_count": null,
   "id": "628c9837-0a31-4d11-b751-580b5dc3f401",
   "metadata": {},
   "outputs": [],
   "source": []
  },
  {
   "cell_type": "markdown",
   "id": "ada313a5-bc8e-4041-8d3c-40bb6472af12",
   "metadata": {},
   "source": [
    "## Figure 3"
   ]
  },
  {
   "cell_type": "code",
   "execution_count": null,
   "id": "55cefcbe-6af1-49e2-b5a6-a30b57ab21b8",
   "metadata": {},
   "outputs": [],
   "source": []
  },
  {
   "cell_type": "code",
   "execution_count": null,
   "id": "7fb8f4ef-6876-470a-a3b5-7be03f3baa87",
   "metadata": {},
   "outputs": [],
   "source": []
  },
  {
   "cell_type": "code",
   "execution_count": null,
   "id": "c9a780f4-167d-4d5d-bdea-8f1bca8b8ef6",
   "metadata": {},
   "outputs": [],
   "source": []
  },
  {
   "cell_type": "code",
   "execution_count": null,
   "id": "f3dffcb6-1b9d-4e58-8a3a-1ae0b4fb1dee",
   "metadata": {},
   "outputs": [],
   "source": []
  },
  {
   "cell_type": "code",
   "execution_count": null,
   "id": "d5e89cef-8f17-4f73-97b1-c5c000f7f869",
   "metadata": {},
   "outputs": [],
   "source": []
  },
  {
   "cell_type": "code",
   "execution_count": null,
   "id": "5d348e70-c154-41a3-916d-f69d32ef7d11",
   "metadata": {},
   "outputs": [],
   "source": []
  }
 ],
 "metadata": {
  "kernelspec": {
   "display_name": "Python 3 (ipykernel)",
   "language": "python",
   "name": "python3"
  },
  "language_info": {
   "codemirror_mode": {
    "name": "ipython",
    "version": 3
   },
   "file_extension": ".py",
   "mimetype": "text/x-python",
   "name": "python",
   "nbconvert_exporter": "python",
   "pygments_lexer": "ipython3",
   "version": "3.9.19"
  }
 },
 "nbformat": 4,
 "nbformat_minor": 5
}
